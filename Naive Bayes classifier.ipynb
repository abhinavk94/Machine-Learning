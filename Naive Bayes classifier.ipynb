{
 "cells": [
  {
   "cell_type": "markdown",
   "metadata": {},
   "source": [
    "# Naive Bayes on Amazon Fine food Reviews\n",
    "1) Apply Naive Bayes.                     \n",
    "2) Find the Right alpha using C.V.                    \n",
    "3) Get feature importance for +ve & -ve classes.               \n",
    "4) Report with these performance metrics (Accuracy,Confusion Matrix,Precision,Recall,F1-Score).            "
   ]
  },
  {
   "cell_type": "code",
   "execution_count": 1,
   "metadata": {},
   "outputs": [],
   "source": [
    "# importing the libraries\n",
    "\n",
    "%matplotlib inline\n",
    "import warnings\n",
    "warnings.filterwarnings(\"ignore\")\n",
    "import sqlite3\n",
    "import numpy as np\n",
    "import pandas as pd\n",
    "import matplotlib.pyplot as plt\n",
    "import nltk\n",
    "import seaborn as sns\n",
    "import string\n",
    "\n",
    "#from sklearn.feature_extraction.text import TfidfTransformer\n",
    "#from sklearn.feature_extraction.text import TfidfVectorizer\n",
    "#from sklearn.feature_extraction.text import CountVectorizer\n",
    "#from sklearn.metrics import confusion_matrix\n",
    "#from sklearn import metrics\n",
    "#from sklearn.metrics import roc_curve, auc\n",
    "from nltk.stem.porter import PorterStemmer\n",
    "\n",
    "import re\n",
    "# Tutorial about Python regular expressions: https://pymotw.com/2/re/\n",
    "import string\n",
    "from nltk.corpus import stopwords\n",
    "from nltk.stem import PorterStemmer\n",
    "from nltk.stem.wordnet import WordNetLemmatizer\n",
    "\n",
    "from gensim.models import Word2Vec\n",
    "from gensim.models import KeyedVectors\n",
    "import pickle\n",
    "\n",
    "from tqdm import tqdm\n",
    "import os\n"
   ]
  },
  {
   "cell_type": "code",
   "execution_count": 2,
   "metadata": {},
   "outputs": [],
   "source": [
    "# loading the dataset\n",
    "\n",
    "con = sqlite3.connect(\"/Users/abhinavkunta/Desktop/DataSets/amazon-fine-food-reviews/database.sqlite\")"
   ]
  },
  {
   "cell_type": "code",
   "execution_count": 3,
   "metadata": {},
   "outputs": [],
   "source": [
    "filtered_data = pd.read_sql_query(\"SELECT * FROM Reviews WHERE Score  != 3\",con)"
   ]
  },
  {
   "cell_type": "code",
   "execution_count": 4,
   "metadata": {},
   "outputs": [],
   "source": [
    "# EDA\n",
    "\n",
    "\n",
    "df = pd.read_sql_query(\"SELECT * FROM Reviews WHERE HelpfulnessNumerator > HelpfulnessDenominator\",con)"
   ]
  },
  {
   "cell_type": "code",
   "execution_count": 5,
   "metadata": {},
   "outputs": [],
   "source": [
    "# giving rating according to the score\n",
    "\n",
    "def partition(x):\n",
    "    if x < 3:\n",
    "        return 'negative'\n",
    "    return 'positive'\n",
    "\n",
    "#changing reviews with score less than 3 to be positive and vice-versa\n",
    "rating = filtered_data['Score']\n",
    "positiveneg = rating.map(partition) \n",
    "filtered_data['Score'] = positiveneg"
   ]
  },
  {
   "cell_type": "code",
   "execution_count": 6,
   "metadata": {},
   "outputs": [
    {
     "data": {
      "text/html": [
       "<div>\n",
       "<style scoped>\n",
       "    .dataframe tbody tr th:only-of-type {\n",
       "        vertical-align: middle;\n",
       "    }\n",
       "\n",
       "    .dataframe tbody tr th {\n",
       "        vertical-align: top;\n",
       "    }\n",
       "\n",
       "    .dataframe thead th {\n",
       "        text-align: right;\n",
       "    }\n",
       "</style>\n",
       "<table border=\"1\" class=\"dataframe\">\n",
       "  <thead>\n",
       "    <tr style=\"text-align: right;\">\n",
       "      <th></th>\n",
       "      <th>Id</th>\n",
       "      <th>ProductId</th>\n",
       "      <th>UserId</th>\n",
       "      <th>ProfileName</th>\n",
       "      <th>HelpfulnessNumerator</th>\n",
       "      <th>HelpfulnessDenominator</th>\n",
       "      <th>Score</th>\n",
       "      <th>Time</th>\n",
       "      <th>Summary</th>\n",
       "      <th>Text</th>\n",
       "    </tr>\n",
       "  </thead>\n",
       "  <tbody>\n",
       "    <tr>\n",
       "      <th>0</th>\n",
       "      <td>1</td>\n",
       "      <td>B001E4KFG0</td>\n",
       "      <td>A3SGXH7AUHU8GW</td>\n",
       "      <td>delmartian</td>\n",
       "      <td>1</td>\n",
       "      <td>1</td>\n",
       "      <td>positive</td>\n",
       "      <td>1303862400</td>\n",
       "      <td>Good Quality Dog Food</td>\n",
       "      <td>I have bought several of the Vitality canned d...</td>\n",
       "    </tr>\n",
       "    <tr>\n",
       "      <th>1</th>\n",
       "      <td>2</td>\n",
       "      <td>B00813GRG4</td>\n",
       "      <td>A1D87F6ZCVE5NK</td>\n",
       "      <td>dll pa</td>\n",
       "      <td>0</td>\n",
       "      <td>0</td>\n",
       "      <td>negative</td>\n",
       "      <td>1346976000</td>\n",
       "      <td>Not as Advertised</td>\n",
       "      <td>Product arrived labeled as Jumbo Salted Peanut...</td>\n",
       "    </tr>\n",
       "    <tr>\n",
       "      <th>2</th>\n",
       "      <td>3</td>\n",
       "      <td>B000LQOCH0</td>\n",
       "      <td>ABXLMWJIXXAIN</td>\n",
       "      <td>Natalia Corres \"Natalia Corres\"</td>\n",
       "      <td>1</td>\n",
       "      <td>1</td>\n",
       "      <td>positive</td>\n",
       "      <td>1219017600</td>\n",
       "      <td>\"Delight\" says it all</td>\n",
       "      <td>This is a confection that has been around a fe...</td>\n",
       "    </tr>\n",
       "    <tr>\n",
       "      <th>3</th>\n",
       "      <td>4</td>\n",
       "      <td>B000UA0QIQ</td>\n",
       "      <td>A395BORC6FGVXV</td>\n",
       "      <td>Karl</td>\n",
       "      <td>3</td>\n",
       "      <td>3</td>\n",
       "      <td>negative</td>\n",
       "      <td>1307923200</td>\n",
       "      <td>Cough Medicine</td>\n",
       "      <td>If you are looking for the secret ingredient i...</td>\n",
       "    </tr>\n",
       "    <tr>\n",
       "      <th>4</th>\n",
       "      <td>5</td>\n",
       "      <td>B006K2ZZ7K</td>\n",
       "      <td>A1UQRSCLF8GW1T</td>\n",
       "      <td>Michael D. Bigham \"M. Wassir\"</td>\n",
       "      <td>0</td>\n",
       "      <td>0</td>\n",
       "      <td>positive</td>\n",
       "      <td>1350777600</td>\n",
       "      <td>Great taffy</td>\n",
       "      <td>Great taffy at a great price.  There was a wid...</td>\n",
       "    </tr>\n",
       "  </tbody>\n",
       "</table>\n",
       "</div>"
      ],
      "text/plain": [
       "   Id   ProductId          UserId                      ProfileName  \\\n",
       "0   1  B001E4KFG0  A3SGXH7AUHU8GW                       delmartian   \n",
       "1   2  B00813GRG4  A1D87F6ZCVE5NK                           dll pa   \n",
       "2   3  B000LQOCH0   ABXLMWJIXXAIN  Natalia Corres \"Natalia Corres\"   \n",
       "3   4  B000UA0QIQ  A395BORC6FGVXV                             Karl   \n",
       "4   5  B006K2ZZ7K  A1UQRSCLF8GW1T    Michael D. Bigham \"M. Wassir\"   \n",
       "\n",
       "   HelpfulnessNumerator  HelpfulnessDenominator     Score        Time  \\\n",
       "0                     1                       1  positive  1303862400   \n",
       "1                     0                       0  negative  1346976000   \n",
       "2                     1                       1  positive  1219017600   \n",
       "3                     3                       3  negative  1307923200   \n",
       "4                     0                       0  positive  1350777600   \n",
       "\n",
       "                 Summary                                               Text  \n",
       "0  Good Quality Dog Food  I have bought several of the Vitality canned d...  \n",
       "1      Not as Advertised  Product arrived labeled as Jumbo Salted Peanut...  \n",
       "2  \"Delight\" says it all  This is a confection that has been around a fe...  \n",
       "3         Cough Medicine  If you are looking for the secret ingredient i...  \n",
       "4            Great taffy  Great taffy at a great price.  There was a wid...  "
      ]
     },
     "execution_count": 6,
     "metadata": {},
     "output_type": "execute_result"
    }
   ],
   "source": [
    "filtered_data.head()"
   ]
  },
  {
   "cell_type": "code",
   "execution_count": 7,
   "metadata": {},
   "outputs": [],
   "source": [
    "# data deduplication\n",
    "final = filtered_data.drop_duplicates(subset={\"UserId\",\"ProfileName\",\"Time\",\"Text\"}, keep='first', inplace=False)"
   ]
  },
  {
   "cell_type": "code",
   "execution_count": 11,
   "metadata": {},
   "outputs": [
    {
     "data": {
      "text/plain": [
       "(364173, 10)"
      ]
     },
     "execution_count": 11,
     "metadata": {},
     "output_type": "execute_result"
    }
   ],
   "source": [
    "final.shape"
   ]
  },
  {
   "cell_type": "code",
   "execution_count": 12,
   "metadata": {},
   "outputs": [],
   "source": [
    "final = final[final.HelpfulnessNumerator <= final.HelpfulnessDenominator]"
   ]
  },
  {
   "cell_type": "code",
   "execution_count": 13,
   "metadata": {},
   "outputs": [],
   "source": [
    "# here we are only considering the subset of reviews by random sampling as it is lot of time consuming for 500k reviews.\n",
    "\n",
    "# sampling the positive reviews\n",
    "finalp = final[final.Score == 'positive']\n",
    "finalp = finalp.sample(frac=0.035,random_state=1) \n",
    "\n",
    "# sampling the negative reviews\n",
    "finaln = final[final.Score == 'negative']\n",
    "finaln = finaln.sample(frac=0.15,random_state=1) \n",
    "\n",
    "# concatinating both the samples\n",
    "final = pd.concat([finalp,finaln],axis=0) "
   ]
  },
  {
   "cell_type": "code",
   "execution_count": 14,
   "metadata": {},
   "outputs": [
    {
     "data": {
      "text/plain": [
       "(19313, 10)"
      ]
     },
     "execution_count": 14,
     "metadata": {},
     "output_type": "execute_result"
    }
   ],
   "source": [
    "final.shape"
   ]
  },
  {
   "cell_type": "code",
   "execution_count": 15,
   "metadata": {},
   "outputs": [],
   "source": [
    "# sorting is done according to time because the reviews change by time-time and more over we havevtimestamps available.\n",
    "\n",
    "final = final.sort_values(\"Time\",axis=0,kind=\"quicksort\", ascending=True).reset_index(drop=True)"
   ]
  },
  {
   "cell_type": "code",
   "execution_count": 16,
   "metadata": {},
   "outputs": [
    {
     "data": {
      "text/plain": [
       "positive    10747\n",
       "negative     8566\n",
       "Name: Score, dtype: int64"
      ]
     },
     "execution_count": 16,
     "metadata": {},
     "output_type": "execute_result"
    }
   ],
   "source": [
    "# checking the number of positiveb and negative ratings.\n",
    "\n",
    "final['Score'].value_counts()\n",
    "\n"
   ]
  },
  {
   "cell_type": "code",
   "execution_count": 17,
   "metadata": {},
   "outputs": [
    {
     "name": "stdout",
     "output_type": "stream",
     "text": [
      "0\n",
      "I am continually amazed at the shoddy treatment that some movies get in their DVD release.  This DVD is simply a disgrace, especially considering what a great movie this is.  I give the movie itself 5 stars; it's a wonderful example of Tim Burton's energy and style.<p>This DVD has no extras worth mentioning.  No deleted scenes, no featurettes, not even a lousy commentary track!  To make it even worse, the film has been CUT DOWN from the theatrical release!  I have never seen a DVD release before where you get LESS than was originally presented in theaters.<p>My advice is to save your money until somebody figures out that when a movie is released on DVD, it needs to live up to the capabilities of the medium, and should always provide more material than was originally released, not less.\n"
     ]
    }
   ],
   "source": [
    "# preprocessing = stopword removal, stemming, lemmitization.\n",
    "# removal of html tags\n",
    "import re\n",
    "i=0;\n",
    "for sent in final['Text'].values:\n",
    "    if (len(re.findall('<.*?>', sent))):\n",
    "        print(i)\n",
    "        print(sent)\n",
    "        break;\n",
    "    i += 1;    "
   ]
  },
  {
   "cell_type": "code",
   "execution_count": 18,
   "metadata": {},
   "outputs": [
    {
     "name": "stdout",
     "output_type": "stream",
     "text": [
      "[nltk_data] Downloading package stopwords to\n",
      "[nltk_data]     /Users/abhinavkunta/nltk_data...\n",
      "[nltk_data]   Package stopwords is already up-to-date!\n"
     ]
    },
    {
     "data": {
      "text/plain": [
       "True"
      ]
     },
     "execution_count": 18,
     "metadata": {},
     "output_type": "execute_result"
    }
   ],
   "source": [
    "# downloading set of stopwords in english\n",
    "nltk.download('stopwords')"
   ]
  },
  {
   "cell_type": "code",
   "execution_count": 19,
   "metadata": {},
   "outputs": [
    {
     "name": "stdout",
     "output_type": "stream",
     "text": [
      "{'hers', 'm', 'have', 'i', 'being', 'won', 's', 'couldn', 'you', 'can', 'all', 'any', 'her', 'further', 'when', 'to', 'only', 'mustn', \"aren't\", 'ours', 'the', \"needn't\", 'below', 'a', 'how', 'after', 'so', 'just', 'themselves', 'ma', 'before', 'as', 'each', 'been', 'in', 'is', 've', 'these', 'on', 'wasn', 'while', 'yours', 'she', 'my', 'whom', 'by', 'himself', 'what', \"you'd\", \"didn't\", \"she's\", 't', 'under', 'hasn', \"won't\", \"doesn't\", 'down', 'shouldn', 'into', 'who', 'no', 'out', 'didn', 'aren', \"that'll\", 'at', 'which', 'there', 'our', 'were', 'don', 'be', 'off', 'o', 'very', 'had', \"mustn't\", 'yourselves', 'through', 'weren', \"shouldn't\", 'that', 'such', 'them', 'other', 'both', 'nor', 'they', \"haven't\", 'until', 'did', 'up', 'herself', 'him', 'if', 'of', \"hadn't\", 'more', 'll', \"weren't\", 'again', 'for', \"wasn't\", 'their', 'its', \"you've\", 'his', 'am', 'shan', 'are', 'not', 'some', 'theirs', 'then', 'here', 'isn', 'from', 'mightn', 'd', 'do', \"couldn't\", 'own', 're', 'where', 'or', 'wouldn', 'he', 'but', 'does', 'me', 'having', 'most', \"don't\", 'ain', 'hadn', 'those', 'should', 'it', 'because', 'doing', 'above', \"isn't\", \"mightn't\", 'about', 'during', \"wouldn't\", \"hasn't\", 'will', 'an', 'itself', 'haven', 'over', 'myself', 'few', 'doesn', \"you'll\", 'we', 'once', 'yourself', 'and', \"it's\", 'between', 'than', \"should've\", 'too', 'ourselves', 'why', 'same', 'has', 'y', 'with', 'against', \"you're\", 'needn', 'your', 'now', \"shan't\", 'this', 'was'}\n"
     ]
    }
   ],
   "source": [
    "# set of stop words\n",
    "stop = set(stopwords.words('english'))\n",
    "print(stop)"
   ]
  },
  {
   "cell_type": "code",
   "execution_count": 20,
   "metadata": {},
   "outputs": [
    {
     "name": "stdout",
     "output_type": "stream",
     "text": [
      "{'hers', 'm', 'have', 'i', 'being', 'won', 's', 'couldn', 'you', 'can', 'all', 'any', 'her', 'further', 'when', 'to', 'only', 'mustn', \"aren't\", 'ours', 'the', \"needn't\", 'below', 'a', 'how', 'after', 'so', 'just', 'themselves', 'ma', 'before', 'as', 'each', 'been', 'in', 'is', 've', 'these', 'on', 'wasn', 'while', 'yours', 'she', 'my', 'whom', 'by', 'himself', 'what', \"you'd\", \"didn't\", \"she's\", 't', 'under', 'hasn', \"won't\", \"doesn't\", 'down', 'shouldn', 'into', 'who', 'no', 'out', 'didn', 'aren', \"that'll\", 'at', 'which', 'there', 'our', 'were', 'don', 'be', 'off', 'o', 'very', 'had', \"mustn't\", 'yourselves', 'through', 'weren', \"shouldn't\", 'that', 'such', 'them', 'other', 'both', 'nor', 'they', \"haven't\", 'until', 'did', 'up', 'herself', 'him', 'if', 'of', \"hadn't\", 'more', 'll', \"weren't\", 'again', 'for', \"wasn't\", 'their', 'its', \"you've\", 'his', 'am', 'shan', 'are', 'not', 'some', 'theirs', 'then', 'here', 'isn', 'from', 'mightn', 'd', 'do', \"couldn't\", 'own', 're', 'where', 'or', 'wouldn', 'he', 'but', 'does', 'me', 'having', 'most', \"don't\", 'ain', 'hadn', 'those', 'should', 'it', 'because', 'doing', 'above', \"isn't\", \"mightn't\", 'about', 'during', \"wouldn't\", \"hasn't\", 'will', 'an', 'itself', 'haven', 'over', 'myself', 'few', 'doesn', \"you'll\", 'we', 'once', 'yourself', 'and', \"it's\", 'between', 'than', \"should've\", 'too', 'ourselves', 'why', 'same', 'has', 'y', 'with', 'against', \"you're\", 'needn', 'your', 'now', \"shan't\", 'this', 'was'}\n",
      "************************************\n",
      "tasti\n",
      "CPU times: user 278 µs, sys: 432 µs, total: 710 µs\n",
      "Wall time: 633 µs\n"
     ]
    }
   ],
   "source": [
    "%%time\n",
    "sno = nltk.stem.SnowballStemmer('english') #initialising the snowball stemmer\n",
    "\n",
    "def cleanhtml(sentence): #function to clean the word of any html-tags\n",
    "    cleanr = re.compile('<.*?>')\n",
    "    cleantext = re.sub(cleanr, ' ', sentence)\n",
    "    return cleantext\n",
    "def cleanpunc(sentence): #function to clean the word of any punctuation or special characters\n",
    "    cleaned = re.sub(r'[?|!|\\'|\"|#]',r'',sentence)\n",
    "    cleaned = re.sub(r'[.|,|)|(|\\|/]',r' ',cleaned)\n",
    "    return  cleaned\n",
    "print(stop)\n",
    "print('************************************')\n",
    "print(sno.stem('tasty'))"
   ]
  },
  {
   "cell_type": "code",
   "execution_count": 21,
   "metadata": {},
   "outputs": [
    {
     "name": "stdout",
     "output_type": "stream",
     "text": [
      "CPU times: user 71 µs, sys: 83 µs, total: 154 µs\n",
      "Wall time: 79.9 µs\n"
     ]
    }
   ],
   "source": [
    "%%time\n",
    "import os\n",
    "\n",
    "if not os.path.isfile('final.sqlite'):\n",
    "    i=0\n",
    "    str1=' '\n",
    "    final_string=[]\n",
    "    all_positive_words=[] # store words from +ve reviews here\n",
    "    all_negative_words=[] # store words from -ve reviews here.\n",
    "    s=''\n",
    "    for sent in final['Text'].values:\n",
    "        filtered_sentence=[]\n",
    "        #print(sent);\n",
    "        sent=cleanhtml(sent) # remove HTMl tags\n",
    "        for w in sent.split():\n",
    "            for cleaned_words in cleanpunc(w).split():\n",
    "                if((cleaned_words.isalpha()) & (len(cleaned_words)>2)):    \n",
    "                    if(cleaned_words.lower() not in stop):\n",
    "                        s=(sno.stem(cleaned_words.lower())).encode('utf8')\n",
    "                        filtered_sentence.append(s)\n",
    "                        if (final['Score'].values)[i] == 'positive': \n",
    "                            all_positive_words.append(s) #list of all words used to describe positive reviews\n",
    "                        if(final['Score'].values)[i] == 'negative':\n",
    "                            all_negative_words.append(s) #list of all words used to describe negative reviews reviews\n",
    "                    else:\n",
    "                        continue\n",
    "                else:\n",
    "                    continue \n",
    "        #print(filtered_sentence)\n",
    "        str1 = b\" \".join(filtered_sentence) #final string of cleaned words\n",
    "        #print(\"***********************************************************************\")\n",
    "\n",
    "        final_string.append(str1)\n",
    "        i+=1\n",
    "        final['CleanedText']=final_string #adding a column of CleanedText which displays the data after pre-processing of the review \n",
    "    final['CleanedText']=final['CleanedText'].str.decode(\"utf-8\")\n",
    "        # store final table into an SQlLite table for future.\n",
    "    conn = sqlite3.connect('final.sqlite')\n",
    "    c=conn.cursor()\n",
    "    conn.text_factory = str\n",
    "    final.to_sql('Reviews', conn,  schema=None, if_exists='replace', \\\n",
    "                 index=True, index_label=None, chunksize=None, dtype=None)\n",
    "    conn.close()\n",
    "    \n",
    "    \n",
    "    with open('positive_words.pkl', 'wb') as f:\n",
    "        pickle.dump(all_positive_words, f)\n",
    "    with open('negitive_words.pkl', 'wb') as f:\n",
    "        pickle.dump(all_negative_words, f)"
   ]
  },
  {
   "cell_type": "code",
   "execution_count": 22,
   "metadata": {},
   "outputs": [
    {
     "name": "stdout",
     "output_type": "stream",
     "text": [
      "CPU times: user 20.1 s, sys: 129 ms, total: 20.2 s\n",
      "Wall time: 20.4 s\n"
     ]
    }
   ],
   "source": [
    "%%time\n",
    "# this code takes a while to run as it needs to run on 500k sentences.\n",
    "i=0\n",
    "str1=' '\n",
    "final_string=[]\n",
    "all_positive_words=[] # store words from +ve reviews here\n",
    "all_negative_words=[] # store words from -ve reviews here.\n",
    "s=''\n",
    "for sent in final['Text'].values:\n",
    "    filtered_sentence=[]\n",
    "    #print(sent);\n",
    "    sent=cleanhtml(sent) # remove HTMl tags\n",
    "    for w in sent.split():\n",
    "        for cleaned_words in cleanpunc(w).split():\n",
    "            if((cleaned_words.isalpha()) & (len(cleaned_words)>2)):    \n",
    "                if(cleaned_words.lower() not in stop):\n",
    "                    s=(sno.stem(cleaned_words.lower())).encode('utf8')\n",
    "                    filtered_sentence.append(s)\n",
    "                    if (final['Score'].values)[i] == 'positive': \n",
    "                        all_positive_words.append(s) #list of all words used to describe positive reviews\n",
    "                    if(final['Score'].values)[i] == 'negative':\n",
    "                        all_negative_words.append(s) #list of all words used to describe negative reviews reviews\n",
    "                else:\n",
    "                    continue\n",
    "            else:\n",
    "                continue \n",
    "    #print(filtered_sentence)\n",
    "    str1 = b\" \".join(filtered_sentence) #final string of cleaned words\n",
    "    #print(\"***********************************************************************\")\n",
    "    \n",
    "    final_string.append(str1)\n",
    "    i+=1\n"
   ]
  },
  {
   "cell_type": "code",
   "execution_count": 23,
   "metadata": {},
   "outputs": [],
   "source": [
    "final['CleanedText']=final_string #adding a column of CleanedText which displays the data after pre-processing of the revie"
   ]
  },
  {
   "cell_type": "code",
   "execution_count": 24,
   "metadata": {},
   "outputs": [],
   "source": [
    "final.head(3) #below the processed review can be seen in the CleanedText Column \n",
    "\n",
    "\n",
    "# store final table into an SQlLite table for future.\n",
    "conn = sqlite3.connect('final.sqlite')\n",
    "c=conn.cursor()\n",
    "conn.text_factory = str\n",
    "final.to_sql('Reviews', conn, schema=None, if_exists='replace', index=True, index_label=None, chunksize=None, dtype=None)"
   ]
  },
  {
   "cell_type": "code",
   "execution_count": 27,
   "metadata": {},
   "outputs": [],
   "source": [
    "# Bag of Words\n",
    "from sklearn.feature_extraction.text import CountVectorizer\n",
    "count_vect = CountVectorizer()\n",
    "final_bow_count = count_vect.fit_transform(final_string)"
   ]
  },
  {
   "cell_type": "code",
   "execution_count": 28,
   "metadata": {},
   "outputs": [
    {
     "name": "stderr",
     "output_type": "stream",
     "text": [
      "/anaconda3/lib/python3.7/site-packages/sklearn/utils/validation.py:475: DataConversionWarning: Data with input dtype int64 was converted to float64 by StandardScaler.\n",
      "  warnings.warn(msg, DataConversionWarning)\n",
      "/anaconda3/lib/python3.7/site-packages/sklearn/utils/validation.py:475: DataConversionWarning: Data with input dtype int64 was converted to float64 by StandardScaler.\n",
      "  warnings.warn(msg, DataConversionWarning)\n"
     ]
    }
   ],
   "source": [
    "from sklearn.preprocessing import StandardScaler\n",
    "\n",
    "final_bow_np = StandardScaler(with_mean=False).fit_transform(final_bow_count)"
   ]
  },
  {
   "cell_type": "code",
   "execution_count": 29,
   "metadata": {},
   "outputs": [
    {
     "name": "stdout",
     "output_type": "stream",
     "text": [
      "(13519, 17934) (13519,)\n",
      "(5794, 17934) (5794,)\n"
     ]
    }
   ],
   "source": [
    "# train and test split\n",
    "\n",
    "import math\n",
    "from sklearn import datasets\n",
    "from sklearn.neighbors import KNeighborsClassifier\n",
    "from sklearn.model_selection import train_test_split\n",
    "\n",
    "X = final_bow_np\n",
    "y = final['Score']\n",
    "\n",
    "X_train,X_test,y_train,y_test = train_test_split(X, y, test_size=0.3)\n",
    "print (X_train.shape, y_train.shape)\n",
    "print (X_test.shape, y_test.shape)"
   ]
  },
  {
   "cell_type": "code",
   "execution_count": 109,
   "metadata": {},
   "outputs": [],
   "source": [
    "# function for finding the right Alpha.\n",
    "\n",
    "\n",
    "from sklearn.cross_validation import cross_val_score\n",
    "\n",
    "def find_optimal_alpha(X_train,y_train, myList):\n",
    "   \n",
    "    #creating odd list of alpha for NB\n",
    "    #myList = list(range(0,40))\n",
    "    neighbors = list(filter(lambda x: x % 2 != 0, myList))\n",
    "\n",
    "    # empty list that will hold cv scores\n",
    "    cv_scores = []\n",
    "\n",
    "    # perform 10-fold cross validation\n",
    "    for alpha in neighbors:\n",
    "        nb = BernoulliNB(alpha=alpha)\n",
    "        scores = cross_val_score(nb, X_train, y_train, cv=10, scoring='accuracy')\n",
    "        cv_scores.append(scores.mean())\n",
    "\n",
    "    # changing to misclassification error\n",
    "    MSE = [1 - x for x in cv_scores]\n",
    "\n",
    "    # determining best alpha\n",
    "    optimal_alpha = neighbors[MSE.index(min(MSE))]\n",
    "    print('\\nThe optimal alpha is %d.' % optimal_alpha)\n",
    "\n",
    "\n",
    "    plt.figure(figsize=(10,6))\n",
    "    plt.plot(list(filter(lambda x: x % 2 != 0, myList)),MSE,color='blue', linestyle='dashed', marker='o',\n",
    "             markerfacecolor='red', markersize=10)\n",
    "    plt.title('Error Rate vs. Alpha Value')\n",
    "    plt.xlabel('Alpha')\n",
    "    plt.ylabel('Error Rate')\n",
    "\n",
    "    print(\"the misclassification error for each Alpha value is : \", np.round(MSE,3))\n",
    "    \n",
    "    return optimal_alpha\n",
    "\n"
   ]
  },
  {
   "cell_type": "code",
   "execution_count": 114,
   "metadata": {},
   "outputs": [
    {
     "name": "stdout",
     "output_type": "stream",
     "text": [
      "\n",
      "The optimal alpha is 1.\n",
      "the misclassification error for each Alpha value is :  [0.18  0.214 0.254 0.29  0.322 0.351 0.375 0.39  0.403 0.413 0.42  0.427\n",
      " 0.43  0.434 0.436 0.437 0.439 0.44  0.44  0.441]\n",
      "CPU times: user 11 s, sys: 230 ms, total: 11.2 s\n",
      "Wall time: 7.12 s\n"
     ]
    },
    {
     "data": {
      "image/png": "[encoded data removed]",
      "text/plain": [
       "<Figure size 720x432 with 1 Axes>"
      ]
     },
     "metadata": {
      "needs_background": "light"
     },
     "output_type": "display_data"
    }
   ],
   "source": [
    "%%time\n",
    "myList = list(range(0,40))\n",
    "\n",
    "optimal_alpha = find_optimal_alpha(X_train ,y_train,myList)"
   ]
  },
  {
   "cell_type": "code",
   "execution_count": 129,
   "metadata": {},
   "outputs": [],
   "source": [
    "import numpy as np\n",
    "from sklearn.naive_bayes import BernoulliNB\n",
    "clf = BernoulliNB(alpha=1.0)\n",
    "clf.fit(X_train,y_train)\n",
    "pred = clf.predict(X_test)"
   ]
  },
  {
   "cell_type": "code",
   "execution_count": 130,
   "metadata": {},
   "outputs": [
    {
     "name": "stdout",
     "output_type": "stream",
     "text": [
      "Accuracy for Naive Bayes clasifier with Bag of words is  0.817\n"
     ]
    }
   ],
   "source": [
    "from sklearn.metrics import accuracy_score\n",
    "\n",
    "print(\"Accuracy for Naive Bayes clasifier with Bag of words is \",round(accuracy_score(y_test ,pred),3))\n"
   ]
  },
  {
   "cell_type": "markdown",
   "metadata": {},
   "source": [
    "# Feature Importance for both positive and negative classes"
   ]
  },
  {
   "cell_type": "code",
   "execution_count": 131,
   "metadata": {},
   "outputs": [
    {
     "name": "stdout",
     "output_type": "stream",
     "text": [
      "['aaa' 'mas' 'masaman' 'mascot' 'masculin' 'mashbil' 'massachusett'\n",
      " 'massaman' 'marukan' 'massimo' 'mastiff' 'mastopathi' 'matador' 'matccha'\n",
      " 'mateljan' 'mater' 'materia' 'masterpiec' 'matine' 'martinelli']\n",
      "['sambal' 'neglig' 'neglect' 'doze' 'rustichella' 'rustl' 'negit' 'ruta'\n",
      " 'downtown' 'rutabaga' 'downsiz' 'dpsg' 'ruthless' 'downhil' 'needi'\n",
      " 'downey' 'necklac' 'dowd' 'saaqin' 'neccessarili']\n"
     ]
    }
   ],
   "source": [
    "# source:https://stackoverflow.com/questions/50526898/how-to-get-feature-importance-in-naive-bayes\n",
    "# feature importance for positive and negative classes.\n",
    "\n",
    "neg_class_prob_sorted = clf.feature_log_prob_[0, :].argsort()\n",
    "pos_class_prob_sorted = clf.feature_log_prob_[1, :].argsort()\n",
    "\n",
    "print(np.take(count_vect.get_feature_names(), neg_class_prob_sorted[:20]))\n",
    "print(np.take(count_vect.get_feature_names(), pos_class_prob_sorted[:20]))"
   ]
  },
  {
   "cell_type": "code",
   "execution_count": 132,
   "metadata": {},
   "outputs": [
    {
     "data": {
      "text/plain": [
       "<matplotlib.axes._subplots.AxesSubplot at 0x1a2f65b5c0>"
      ]
     },
     "execution_count": 132,
     "metadata": {},
     "output_type": "execute_result"
    },
    {
     "data": {
      "image/png": "[encoded data removed]",
      "text/plain": [
       "<Figure size 432x288 with 2 Axes>"
      ]
     },
     "metadata": {
      "needs_background": "light"
     },
     "output_type": "display_data"
    }
   ],
   "source": [
    "# confusion matrix.\n",
    "\n",
    "import scikitplot.metrics as skplt\n",
    "skplt.plot_confusion_matrix(y_test ,pred)\n"
   ]
  },
  {
   "cell_type": "code",
   "execution_count": 133,
   "metadata": {},
   "outputs": [
    {
     "name": "stdout",
     "output_type": "stream",
     "text": [
      "             precision    recall  f1-score   support\n",
      "\n",
      "   negative       0.85      0.71      0.78      2575\n",
      "   positive       0.80      0.90      0.85      3219\n",
      "\n",
      "avg / total       0.82      0.82      0.81      5794\n",
      "\n"
     ]
    }
   ],
   "source": [
    "# precision, recall, F1 score\n",
    "from sklearn.metrics import classification_report\n",
    "print(classification_report(y_test ,pred))\n"
   ]
  },
  {
   "cell_type": "markdown",
   "metadata": {},
   "source": [
    "# The optimal alpha is found to be \"1\". Accuracy achieved in classification by Naive Bayes classifier on Amazon Reviews Dataset is 81.7% by using BoW model."
   ]
  }
 ],
 "metadata": {
  "kernelspec": {
   "display_name": "Python 3",
   "language": "python",
   "name": "python3"
  },
  "language_info": {
   "codemirror_mode": {
    "name": "ipython",
    "version": 3
   },
   "file_extension": ".py",
   "mimetype": "text/x-python",
   "name": "python",
   "nbconvert_exporter": "python",
   "pygments_lexer": "ipython3",
   "version": "3.7.0"
  }
 },
 "nbformat": 4,
 "nbformat_minor": 2
}
